{
 "cells": [
  {
   "cell_type": "markdown",
   "metadata": {},
   "source": [
    "# Vaje 11 (b)"
   ]
  },
  {
   "cell_type": "markdown",
   "metadata": {},
   "source": [
    "## Merilniki za temperaturo\n",
    "\n",
    "Na plošči pravokotne oblike imamo mrežo merilnikov za temperaturo. Merilnik identificiramo z x- in y-koordinatami točke v mreži. Merilna mesta periodično merijo temperaturo in podatke pošiljajo na strežnik, kjer se hranijo. Podatki so shranjeni v tridimenzionalni tabeli tipa `numpy.ndarray`, kjer prva dimenzija predstavlja kronološko zaporedje odčitkov, druga in tretja dimenzija pa zaporedne x- in y-koordinate merilnih mest."
   ]
  },
  {
   "cell_type": "code",
   "execution_count": 1,
   "metadata": {},
   "outputs": [],
   "source": [
    "import numpy as np\n",
    "\n",
    "meritve = np.array([[[ 25.5,  22.6,  19.5,  18.5,  19.4,  22.4,  25.8],\n",
    "        [ 11.2,   8.8,   8.6,  12.1,  16.8,  20.6,  20.1],\n",
    "        [ 13.7,  11.1,  11.6,  16.3,  22.3,  26.7,  25.7],\n",
    "        [ 25.3,  20.6,  19.9,  24.5,  30.5,  36.2,  37.7]],\n",
    "\n",
    "       [[ 26.2,  22.7,  17.8,  14.7,  14.1,  16.5,  22. ],\n",
    "        [  6.8,   7.7,  10.6,  14.3,  17.1,  19.4,  19.7],\n",
    "        [  8.2,   9.2,  12.7,  17.6,  21.4,  23.9,  22.9],\n",
    "        [ 20.1,  18.4,  19.6,  23.6,  27.7,  31.1,  37.3]],\n",
    "\n",
    "       [[ 23.6,  22.2,  18.6,  14.4,  11.6,  11.6,  17.4],\n",
    "        [  4.1,   9.6,  16.1,  19.4,  19.1,  19. ,  20.5],\n",
    "        [  6.6,  11. ,  16.6,  19.8,  19.9,  19.7,  19.8],\n",
    "        [ 17.4,  18.1,  19.3,  20.5,  21.1,  21.4,  21. ]],\n",
    "\n",
    "       [[ 18.3,  21.3,  21.9,  18.5,  13.7,  10.6,  14.2],\n",
    "        [  5.1,  14.2,  23.4,  25.6,  22.1,  19.4,  21.5],\n",
    "        [ 10.7,  16.7,  21.9,  22.1,  18.5,  15.7,  16.7],\n",
    "        [ 19.6,  20.6,  19.2,  16.1,  13.2,  10.7,  10.1]],\n",
    "\n",
    "       [[ 13.1,  20.4,  25.8,  24.4,  18.6,  13. ,  13.7],\n",
    "        [  8.4,  19. ,  28.8,  30.1,  24.7,  20.2,  21.6],\n",
    "        [ 17.3,  22.9,  26.1,  23.5,  17.7,  13.1,  13.9],\n",
    "        [ 24.9,  24.4,  19.4,  12.5,   7.6,   3.4,   2.6]],\n",
    "\n",
    "       [[ 10.1,  19.9,  28.5,  28.7,  22.9,  16.4,  15. ],\n",
    "        [ 11.6,  21.9,  31.1,  31.8,  26. ,  20.6,  20.4],\n",
    "        [ 22.7,  26.8,  28. ,  23.8,  17.5,  12.2,  11.5],\n",
    "        [ 29.9,  27.5,  19.8,  11. ,   5.5,   0.8,  -0.8]],\n",
    "\n",
    "       [[  6.7,  17.7,  28.5,  30.5,  25.4,  18.6,  15.5],\n",
    "        [ 13.3,  22.7,  30.9,  31. ,  25.3,  19.6,  18.2],\n",
    "        [ 25.9,  28.6,  28. ,  22.8,  16.3,  10.7,   9.2],\n",
    "        [ 33.2,  29.1,  19.2,   9.1,   3.5,  -1.2,  -2.8]],\n",
    "\n",
    "       [[  1.8,  11.4,  22.5,  26.6,  23.6,  18. ,  13.9],\n",
    "        [ 11.6,  19.5,  26.3,  26.1,  20.8,  15.6,  14.5],\n",
    "        [ 24.9,  26.8,  25.2,  19.4,  12.9,   7.8,   7.9],\n",
    "        [ 32.1,  27.6,  17. ,   6.5,   0.9,  -2.9,  -2.4]],\n",
    "\n",
    "       [[ -0.7,   4.6,  13.6,  19.4,  19.3,  16.1,  11.7],\n",
    "        [  8.3,  14.7,  20.3,  20.1,  15.5,  11.2,  11. ],\n",
    "        [ 20.9,  23.2,  22. ,  16.5,  10. ,   5.9,   8.5],\n",
    "        [ 27.6,  24.4,  15.5,   6.1,   0.6,  -2. ,   1.5]]])\n"
   ]
  },
  {
   "cell_type": "markdown",
   "metadata": {},
   "source": [
    "V podani (3. dimenzionalni) tabeli je 9 časovnih odčitkov polja velikosti $4 \\times 7$. Npr. `meritve[1][0][4]` hrani podatek senzorja na koordinatah $x = 0$, $y = 4$ ob času $t = 1$:"
   ]
  },
  {
   "cell_type": "code",
   "execution_count": 2,
   "metadata": {},
   "outputs": [
    {
     "data": {
      "text/plain": [
       "14.1"
      ]
     },
     "execution_count": 2,
     "metadata": {},
     "output_type": "execute_result"
    }
   ],
   "source": [
    "meritve[1][0][4]"
   ]
  },
  {
   "cell_type": "markdown",
   "metadata": {},
   "source": [
    "## 2. naloga: Najvišje in najnižje temperature\n",
    "Napišite funkcijo `izrisi_min_max(meritve)`, ki kot vhodni podatek prejme tridimenzionalno tabelo tipa `numpy.ndarray` ter izriše krivuljo minimalnih ter maksimalnih temperatur izmerjenih kjerkoli na ploči v odvisnosti od časa (torej za vsako časovno enoto).\n",
    "Funkcijo pokličite in ji kot argument podajte tabelo `meritve`."
   ]
  },
  {
   "cell_type": "code",
   "execution_count": 12,
   "metadata": {
    "scrolled": true
   },
   "outputs": [
    {
     "ename": "TypeError",
     "evalue": "'list' object is not callable",
     "output_type": "error",
     "traceback": [
      "\u001b[1;31m----------------------------------------------------------------------\u001b[0m",
      "\u001b[1;31mTypeError\u001b[0m                            Traceback (most recent call last)",
      "\u001b[1;32m~\\AppData\\Local\\Temp/ipykernel_16548/504341430.py\u001b[0m in \u001b[0;36m<module>\u001b[1;34m\u001b[0m\n\u001b[0;32m     13\u001b[0m \u001b[1;33m\u001b[0m\u001b[0m\n\u001b[0;32m     14\u001b[0m \u001b[1;31m# klic funkcije izrisi_min_max\u001b[0m\u001b[1;33m\u001b[0m\u001b[1;33m\u001b[0m\u001b[1;33m\u001b[0m\u001b[0m\n\u001b[1;32m---> 15\u001b[1;33m \u001b[0mizrisi_min_max\u001b[0m\u001b[1;33m(\u001b[0m\u001b[0mmeritve\u001b[0m\u001b[1;33m)\u001b[0m\u001b[1;33m\u001b[0m\u001b[1;33m\u001b[0m\u001b[0m\n\u001b[0m",
      "\u001b[1;32m~\\AppData\\Local\\Temp/ipykernel_16548/504341430.py\u001b[0m in \u001b[0;36mizrisi_min_max\u001b[1;34m(meritve)\u001b[0m\n\u001b[0;32m      8\u001b[0m     \u001b[0mplt\u001b[0m\u001b[1;33m.\u001b[0m\u001b[0mplot\u001b[0m\u001b[1;33m(\u001b[0m\u001b[0mmini\u001b[0m\u001b[1;33m)\u001b[0m\u001b[1;33m\u001b[0m\u001b[1;33m\u001b[0m\u001b[0m\n\u001b[0;32m      9\u001b[0m     \u001b[0mplt\u001b[0m\u001b[1;33m.\u001b[0m\u001b[0mplot\u001b[0m\u001b[1;33m(\u001b[0m\u001b[0mmaxi\u001b[0m\u001b[1;33m)\u001b[0m\u001b[1;33m\u001b[0m\u001b[1;33m\u001b[0m\u001b[0m\n\u001b[1;32m---> 10\u001b[1;33m     \u001b[0mplt\u001b[0m\u001b[1;33m.\u001b[0m\u001b[0mlegend\u001b[0m\u001b[1;33m(\u001b[0m\u001b[1;33m[\u001b[0m\u001b[1;34m'min'\u001b[0m\u001b[1;33m,\u001b[0m \u001b[1;34m'max'\u001b[0m\u001b[1;33m]\u001b[0m\u001b[1;33m)\u001b[0m \u001b[1;31m## V jupitru ne dela, izven njega pa. Ignoriramo napako\u001b[0m\u001b[1;33m\u001b[0m\u001b[1;33m\u001b[0m\u001b[0m\n\u001b[0m\u001b[0;32m     11\u001b[0m     \u001b[0mplt\u001b[0m\u001b[1;33m.\u001b[0m\u001b[0mshow\u001b[0m\u001b[1;33m(\u001b[0m\u001b[1;33m)\u001b[0m\u001b[1;33m\u001b[0m\u001b[1;33m\u001b[0m\u001b[0m\n\u001b[0;32m     12\u001b[0m \u001b[1;33m\u001b[0m\u001b[0m\n",
      "\u001b[1;31mTypeError\u001b[0m: 'list' object is not callable"
     ]
    },
    {
     "data": {
      "image/png": "[encoded data removed]",
      "text/plain": [
       "<Figure size 432x288 with 1 Axes>"
      ]
     },
     "metadata": {
      "needs_background": "light"
     },
     "output_type": "display_data"
    }
   ],
   "source": [
    "import matplotlib.pyplot as plt\n",
    "# dopolnite funkcijo izrisi_min_max\n",
    "def izrisi_min_max(meritve):\n",
    "    mini, maxi = [], []\n",
    "    for i in meritve:\n",
    "        mini.append(np.nanmin(i))\n",
    "        maxi.append(np.nanmax(i))\n",
    "    plt.plot(mini)\n",
    "    plt.plot(maxi)\n",
    "    plt.legend(['min', 'max']) ## V jupitru ne dela, izven njega pa. Ignoriramo napako\n",
    "    plt.show()\n",
    "    \n",
    "\n",
    "# klic funkcije izrisi_min_max\n",
    "izrisi_min_max(meritve)"
   ]
  },
  {
   "cell_type": "markdown",
   "metadata": {},
   "source": [
    "## 3. naloga: Toplotna karta\n",
    "Napišite funkcijo `vrni_najnizje_na_merilnih_mestih(meritve)`, ki vrne dvodimenzionalno tabelo tipa `ndarray`, ki za vsako merilno mesto hrani minimalno izmerjeno temperaturo. Nato napišite funkcijo `toplotna_karta` ki izriše toplotno karto, kjer os x in y predstavljata koordinate x in y, barva pa minimalno temperaturo na ujemajočem merilnem mestu. \n",
    "\n",
    "Namig: Uporabite funkcijo `plt.pcolor` za izris toplotne karte in funkcijo `plt.colorbar` za izris legende. Barve shemo lahko določite s pomočjo parametra `cmap` pri klicu funkcije `plt.pcolor`."
   ]
  },
  {
   "cell_type": "code",
   "execution_count": 30,
   "metadata": {},
   "outputs": [
    {
     "data": {
      "image/png": "[encoded data removed]",
      "text/plain": [
       "<Figure size 432x288 with 2 Axes>"
      ]
     },
     "metadata": {
      "needs_background": "light"
     },
     "output_type": "display_data"
    },
    {
     "data": {
      "image/png": "[encoded data removed]",
      "text/plain": [
       "<Figure size 432x288 with 2 Axes>"
      ]
     },
     "metadata": {
      "needs_background": "light"
     },
     "output_type": "display_data"
    }
   ],
   "source": [
    "# dopolnite funkcijo vrni_najnizje_na_merilnih_mestih\n",
    "def vrni_najnizje_na_merilnih_mestih(a):\n",
    "    return(np.min(a, axis=0))\n",
    "    \n",
    "\n",
    "# dopolnite funkcijo toplotna_karta\n",
    "def toplotna_karta(minimalne):\n",
    "    plt.pcolor(minimalne, cmap=\"plasma\") # Meni se tale plasma zdi close enough.\n",
    "    plt.colorbar()\n",
    "    plt.show()\n",
    "    plt.pcolormesh(minimalne, cmap=\"plasma\")\n",
    "    plt.colorbar()\n",
    "    plt.show()\n",
    "    \n",
    "\n",
    "# klici funkcij\n",
    "minimalne = vrni_najnizje_na_merilnih_mestih(meritve)\n",
    "toplotna_karta(minimalne)"
   ]
  },
  {
   "cell_type": "markdown",
   "metadata": {},
   "source": [
    "Kaj lahko razberemo iz narisanega?"
   ]
  }
 ],
 "metadata": {
  "kernelspec": {
   "display_name": "Python 3 (ipykernel)",
   "language": "python",
   "name": "python3"
  },
  "language_info": {
   "codemirror_mode": {
    "name": "ipython",
    "version": 3
   },
   "file_extension": ".py",
   "mimetype": "text/x-python",
   "name": "python",
   "nbconvert_exporter": "python",
   "pygments_lexer": "ipython3",
   "version": "3.8.10"
  }
 },
 "nbformat": 4,
 "nbformat_minor": 4
}
