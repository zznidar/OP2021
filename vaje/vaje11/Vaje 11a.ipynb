{
 "cells": [
  {
   "cell_type": "markdown",
   "metadata": {},
   "source": [
    "# Vaje 11 (a)"
   ]
  },
  {
   "cell_type": "markdown",
   "metadata": {},
   "source": [
    "## 1. naloga: Jupyter\n",
    "Naša naloga danes je, da rezultate vaj 10 uredimo v Jupytrov delovni zvezek."
   ]
  },
  {
   "cell_type": "markdown",
   "metadata": {},
   "source": [
    "Najprej preberemo podatke s pomočjo knjižnice `pandas`, ki poleg enostavnejše analize podatkov omogoča tudi lepši tabelaričen pregled podatkov v Jupytru, v ozadju pa uporablja `numpy`. Podatke o onesnaženosti z delci PM10 preberemo iz datoteke `januar.csv`."
   ]
  },
  {
   "cell_type": "code",
   "execution_count": 2,
   "metadata": {
    "scrolled": true
   },
   "outputs": [
    {
     "data": {
      "text/html": [
       "<div>\n",
       "<style scoped>\n",
       "    .dataframe tbody tr th:only-of-type {\n",
       "        vertical-align: middle;\n",
       "    }\n",
       "\n",
       "    .dataframe tbody tr th {\n",
       "        vertical-align: top;\n",
       "    }\n",
       "\n",
       "    .dataframe thead th {\n",
       "        text-align: right;\n",
       "    }\n",
       "</style>\n",
       "<table border=\"1\" class=\"dataframe\">\n",
       "  <thead>\n",
       "    <tr style=\"text-align: right;\">\n",
       "      <th></th>\n",
       "      <th>Ljubljana</th>\n",
       "      <th>Maribor</th>\n",
       "      <th>Zagorje</th>\n",
       "      <th>Velenje</th>\n",
       "    </tr>\n",
       "  </thead>\n",
       "  <tbody>\n",
       "    <tr>\n",
       "      <th>0</th>\n",
       "      <td>152</td>\n",
       "      <td>88</td>\n",
       "      <td>134</td>\n",
       "      <td>35</td>\n",
       "    </tr>\n",
       "    <tr>\n",
       "      <th>1</th>\n",
       "      <td>61</td>\n",
       "      <td>68</td>\n",
       "      <td>94</td>\n",
       "      <td>31</td>\n",
       "    </tr>\n",
       "    <tr>\n",
       "      <th>2</th>\n",
       "      <td>40</td>\n",
       "      <td>81</td>\n",
       "      <td>83</td>\n",
       "      <td>61</td>\n",
       "    </tr>\n",
       "    <tr>\n",
       "      <th>3</th>\n",
       "      <td>57</td>\n",
       "      <td>69</td>\n",
       "      <td>86</td>\n",
       "      <td>51</td>\n",
       "    </tr>\n",
       "    <tr>\n",
       "      <th>4</th>\n",
       "      <td>39</td>\n",
       "      <td>19</td>\n",
       "      <td>39</td>\n",
       "      <td>11</td>\n",
       "    </tr>\n",
       "    <tr>\n",
       "      <th>5</th>\n",
       "      <td>10</td>\n",
       "      <td>16</td>\n",
       "      <td>13</td>\n",
       "      <td>5</td>\n",
       "    </tr>\n",
       "    <tr>\n",
       "      <th>6</th>\n",
       "      <td>19</td>\n",
       "      <td>34</td>\n",
       "      <td>43</td>\n",
       "      <td>14</td>\n",
       "    </tr>\n",
       "    <tr>\n",
       "      <th>7</th>\n",
       "      <td>34</td>\n",
       "      <td>50</td>\n",
       "      <td>48</td>\n",
       "      <td>32</td>\n",
       "    </tr>\n",
       "    <tr>\n",
       "      <th>8</th>\n",
       "      <td>71</td>\n",
       "      <td>71</td>\n",
       "      <td>67</td>\n",
       "      <td>51</td>\n",
       "    </tr>\n",
       "    <tr>\n",
       "      <th>9</th>\n",
       "      <td>37</td>\n",
       "      <td>47</td>\n",
       "      <td>47</td>\n",
       "      <td>31</td>\n",
       "    </tr>\n",
       "    <tr>\n",
       "      <th>10</th>\n",
       "      <td>67</td>\n",
       "      <td>67</td>\n",
       "      <td>82</td>\n",
       "      <td>43</td>\n",
       "    </tr>\n",
       "    <tr>\n",
       "      <th>11</th>\n",
       "      <td>82</td>\n",
       "      <td>77</td>\n",
       "      <td>34</td>\n",
       "      <td>33</td>\n",
       "    </tr>\n",
       "    <tr>\n",
       "      <th>12</th>\n",
       "      <td>11</td>\n",
       "      <td>15</td>\n",
       "      <td>19</td>\n",
       "      <td>5</td>\n",
       "    </tr>\n",
       "    <tr>\n",
       "      <th>13</th>\n",
       "      <td>33</td>\n",
       "      <td>14</td>\n",
       "      <td>60</td>\n",
       "      <td>17</td>\n",
       "    </tr>\n",
       "    <tr>\n",
       "      <th>14</th>\n",
       "      <td>47</td>\n",
       "      <td>18</td>\n",
       "      <td>67</td>\n",
       "      <td>17</td>\n",
       "    </tr>\n",
       "    <tr>\n",
       "      <th>15</th>\n",
       "      <td>29</td>\n",
       "      <td>23</td>\n",
       "      <td>36</td>\n",
       "      <td>15</td>\n",
       "    </tr>\n",
       "    <tr>\n",
       "      <th>16</th>\n",
       "      <td>11</td>\n",
       "      <td>24</td>\n",
       "      <td>16</td>\n",
       "      <td>11</td>\n",
       "    </tr>\n",
       "    <tr>\n",
       "      <th>17</th>\n",
       "      <td>20</td>\n",
       "      <td>34</td>\n",
       "      <td>31</td>\n",
       "      <td>28</td>\n",
       "    </tr>\n",
       "    <tr>\n",
       "      <th>18</th>\n",
       "      <td>42</td>\n",
       "      <td>56</td>\n",
       "      <td>51</td>\n",
       "      <td>46</td>\n",
       "    </tr>\n",
       "    <tr>\n",
       "      <th>19</th>\n",
       "      <td>65</td>\n",
       "      <td>72</td>\n",
       "      <td>101</td>\n",
       "      <td>58</td>\n",
       "    </tr>\n",
       "    <tr>\n",
       "      <th>20</th>\n",
       "      <td>88</td>\n",
       "      <td>101</td>\n",
       "      <td>105</td>\n",
       "      <td>55</td>\n",
       "    </tr>\n",
       "    <tr>\n",
       "      <th>21</th>\n",
       "      <td>79</td>\n",
       "      <td>138</td>\n",
       "      <td>93</td>\n",
       "      <td>74</td>\n",
       "    </tr>\n",
       "    <tr>\n",
       "      <th>22</th>\n",
       "      <td>91</td>\n",
       "      <td>170</td>\n",
       "      <td>97</td>\n",
       "      <td>87</td>\n",
       "    </tr>\n",
       "    <tr>\n",
       "      <th>23</th>\n",
       "      <td>104</td>\n",
       "      <td>106</td>\n",
       "      <td>97</td>\n",
       "      <td>111</td>\n",
       "    </tr>\n",
       "    <tr>\n",
       "      <th>24</th>\n",
       "      <td>62</td>\n",
       "      <td>74</td>\n",
       "      <td>64</td>\n",
       "      <td>74</td>\n",
       "    </tr>\n",
       "    <tr>\n",
       "      <th>25</th>\n",
       "      <td>31</td>\n",
       "      <td>51</td>\n",
       "      <td>54</td>\n",
       "      <td>38</td>\n",
       "    </tr>\n",
       "    <tr>\n",
       "      <th>26</th>\n",
       "      <td>53</td>\n",
       "      <td>62</td>\n",
       "      <td>75</td>\n",
       "      <td>36</td>\n",
       "    </tr>\n",
       "    <tr>\n",
       "      <th>27</th>\n",
       "      <td>93</td>\n",
       "      <td>94</td>\n",
       "      <td>100</td>\n",
       "      <td>91</td>\n",
       "    </tr>\n",
       "    <tr>\n",
       "      <th>28</th>\n",
       "      <td>124</td>\n",
       "      <td>100</td>\n",
       "      <td>112</td>\n",
       "      <td>120</td>\n",
       "    </tr>\n",
       "    <tr>\n",
       "      <th>29</th>\n",
       "      <td>108</td>\n",
       "      <td>99</td>\n",
       "      <td>101</td>\n",
       "      <td>113</td>\n",
       "    </tr>\n",
       "    <tr>\n",
       "      <th>30</th>\n",
       "      <td>132</td>\n",
       "      <td>146</td>\n",
       "      <td>93</td>\n",
       "      <td>90</td>\n",
       "    </tr>\n",
       "  </tbody>\n",
       "</table>\n",
       "</div>"
      ],
      "text/plain": [
       "    Ljubljana  Maribor  Zagorje  Velenje\n",
       "0         152       88      134       35\n",
       "1          61       68       94       31\n",
       "2          40       81       83       61\n",
       "3          57       69       86       51\n",
       "4          39       19       39       11\n",
       "5          10       16       13        5\n",
       "6          19       34       43       14\n",
       "7          34       50       48       32\n",
       "8          71       71       67       51\n",
       "9          37       47       47       31\n",
       "10         67       67       82       43\n",
       "11         82       77       34       33\n",
       "12         11       15       19        5\n",
       "13         33       14       60       17\n",
       "14         47       18       67       17\n",
       "15         29       23       36       15\n",
       "16         11       24       16       11\n",
       "17         20       34       31       28\n",
       "18         42       56       51       46\n",
       "19         65       72      101       58\n",
       "20         88      101      105       55\n",
       "21         79      138       93       74\n",
       "22         91      170       97       87\n",
       "23        104      106       97      111\n",
       "24         62       74       64       74\n",
       "25         31       51       54       38\n",
       "26         53       62       75       36\n",
       "27         93       94      100       91\n",
       "28        124      100      112      120\n",
       "29        108       99      101      113\n",
       "30        132      146       93       90"
      ]
     },
     "execution_count": 2,
     "metadata": {},
     "output_type": "execute_result"
    }
   ],
   "source": [
    "import pandas as pd\n",
    "data = pd.read_csv(\"podatki/januar.csv\", sep = \";\")\n",
    "data"
   ]
  },
  {
   "cell_type": "markdown",
   "metadata": {},
   "source": [
    "### Povprečje po krajih:\n",
    "Zanima nas skupno povprečje po krajih. Pomagali si bomo s funkcijo `np.average`:"
   ]
  },
  {
   "cell_type": "code",
   "execution_count": 3,
   "metadata": {},
   "outputs": [
    {
     "data": {
      "text/plain": [
       "array([61.03225806, 67.22580645, 69.09677419, 47.87096774])"
      ]
     },
     "execution_count": 3,
     "metadata": {},
     "output_type": "execute_result"
    }
   ],
   "source": [
    "import numpy as np\n",
    "np.average(data, axis = 0)"
   ]
  },
  {
   "cell_type": "markdown",
   "metadata": {},
   "source": [
    "Lahko bi tudi uporabili funkcijo `mean`, ki jo pokličemo nad tabelo (tabela je tukaj podatkovnega tipa `pandas.core.frame.DataFrame`):"
   ]
  },
  {
   "cell_type": "code",
   "execution_count": 4,
   "metadata": {
    "scrolled": true
   },
   "outputs": [
    {
     "data": {
      "text/plain": [
       "Ljubljana    61.032258\n",
       "Maribor      67.225806\n",
       "Zagorje      69.096774\n",
       "Velenje      47.870968\n",
       "dtype: float64"
      ]
     },
     "execution_count": 4,
     "metadata": {},
     "output_type": "execute_result"
    }
   ],
   "source": [
    "data.mean(axis = 0)"
   ]
  },
  {
   "cell_type": "markdown",
   "metadata": {},
   "source": [
    "### Povprečje po dnevih:"
   ]
  },
  {
   "cell_type": "code",
   "execution_count": 5,
   "metadata": {},
   "outputs": [
    {
     "data": {
      "text/plain": [
       "0     102.25\n",
       "1      63.50\n",
       "2      66.25\n",
       "3      65.75\n",
       "4      27.00\n",
       "5      11.00\n",
       "6      27.50\n",
       "7      41.00\n",
       "8      65.00\n",
       "9      40.50\n",
       "10     64.75\n",
       "11     56.50\n",
       "12     12.50\n",
       "13     31.00\n",
       "14     37.25\n",
       "15     25.75\n",
       "16     15.50\n",
       "17     28.25\n",
       "18     48.75\n",
       "19     74.00\n",
       "20     87.25\n",
       "21     96.00\n",
       "22    111.25\n",
       "23    104.50\n",
       "24     68.50\n",
       "25     43.50\n",
       "26     56.50\n",
       "27     94.50\n",
       "28    114.00\n",
       "29    105.25\n",
       "30    115.25\n",
       "dtype: float64"
      ]
     },
     "execution_count": 5,
     "metadata": {},
     "output_type": "execute_result"
    }
   ],
   "source": [
    "# tukaj napišite ustrezen klic funkcije mean nad tabelo data\n",
    "data.mean(axis = 1)"
   ]
  },
  {
   "cell_type": "markdown",
   "metadata": {},
   "source": [
    "### Skupno povprečje vseh podatkov:"
   ]
  },
  {
   "cell_type": "code",
   "execution_count": 8,
   "metadata": {},
   "outputs": [
    {
     "data": {
      "text/plain": [
       "61.306451612903224"
      ]
     },
     "execution_count": 8,
     "metadata": {},
     "output_type": "execute_result"
    }
   ],
   "source": [
    "# tukaj napišite ustrezen klic funkcije np.average nad tabelo data\n",
    "np.average(data)"
   ]
  },
  {
   "cell_type": "markdown",
   "metadata": {},
   "source": [
    "Knjižnica `pandas` sicer tudi omogoča, da na hitro pridobimo nekaj statističnih podatkov:"
   ]
  },
  {
   "cell_type": "code",
   "execution_count": 6,
   "metadata": {
    "scrolled": true
   },
   "outputs": [
    {
     "data": {
      "text/html": [
       "<div>\n",
       "<style scoped>\n",
       "    .dataframe tbody tr th:only-of-type {\n",
       "        vertical-align: middle;\n",
       "    }\n",
       "\n",
       "    .dataframe tbody tr th {\n",
       "        vertical-align: top;\n",
       "    }\n",
       "\n",
       "    .dataframe thead th {\n",
       "        text-align: right;\n",
       "    }\n",
       "</style>\n",
       "<table border=\"1\" class=\"dataframe\">\n",
       "  <thead>\n",
       "    <tr style=\"text-align: right;\">\n",
       "      <th></th>\n",
       "      <th>Ljubljana</th>\n",
       "      <th>Maribor</th>\n",
       "      <th>Zagorje</th>\n",
       "      <th>Velenje</th>\n",
       "    </tr>\n",
       "  </thead>\n",
       "  <tbody>\n",
       "    <tr>\n",
       "      <th>count</th>\n",
       "      <td>31.000000</td>\n",
       "      <td>31.000000</td>\n",
       "      <td>31.000000</td>\n",
       "      <td>31.000000</td>\n",
       "    </tr>\n",
       "    <tr>\n",
       "      <th>mean</th>\n",
       "      <td>61.032258</td>\n",
       "      <td>67.225806</td>\n",
       "      <td>69.096774</td>\n",
       "      <td>47.870968</td>\n",
       "    </tr>\n",
       "    <tr>\n",
       "      <th>std</th>\n",
       "      <td>37.211543</td>\n",
       "      <td>40.047230</td>\n",
       "      <td>31.506988</td>\n",
       "      <td>33.016907</td>\n",
       "    </tr>\n",
       "    <tr>\n",
       "      <th>min</th>\n",
       "      <td>10.000000</td>\n",
       "      <td>14.000000</td>\n",
       "      <td>13.000000</td>\n",
       "      <td>5.000000</td>\n",
       "    </tr>\n",
       "    <tr>\n",
       "      <th>25%</th>\n",
       "      <td>33.500000</td>\n",
       "      <td>34.000000</td>\n",
       "      <td>45.000000</td>\n",
       "      <td>22.500000</td>\n",
       "    </tr>\n",
       "    <tr>\n",
       "      <th>50%</th>\n",
       "      <td>57.000000</td>\n",
       "      <td>68.000000</td>\n",
       "      <td>67.000000</td>\n",
       "      <td>38.000000</td>\n",
       "    </tr>\n",
       "    <tr>\n",
       "      <th>75%</th>\n",
       "      <td>85.000000</td>\n",
       "      <td>91.000000</td>\n",
       "      <td>95.500000</td>\n",
       "      <td>67.500000</td>\n",
       "    </tr>\n",
       "    <tr>\n",
       "      <th>max</th>\n",
       "      <td>152.000000</td>\n",
       "      <td>170.000000</td>\n",
       "      <td>134.000000</td>\n",
       "      <td>120.000000</td>\n",
       "    </tr>\n",
       "  </tbody>\n",
       "</table>\n",
       "</div>"
      ],
      "text/plain": [
       "        Ljubljana     Maribor     Zagorje     Velenje\n",
       "count   31.000000   31.000000   31.000000   31.000000\n",
       "mean    61.032258   67.225806   69.096774   47.870968\n",
       "std     37.211543   40.047230   31.506988   33.016907\n",
       "min     10.000000   14.000000   13.000000    5.000000\n",
       "25%     33.500000   34.000000   45.000000   22.500000\n",
       "50%     57.000000   68.000000   67.000000   38.000000\n",
       "75%     85.000000   91.000000   95.500000   67.500000\n",
       "max    152.000000  170.000000  134.000000  120.000000"
      ]
     },
     "execution_count": 6,
     "metadata": {},
     "output_type": "execute_result"
    }
   ],
   "source": [
    "data.describe()"
   ]
  },
  {
   "cell_type": "markdown",
   "metadata": {},
   "source": [
    "### Graf onesnaženosti z delci PM10:\n",
    "Izrišimo še graf onesnaženosti z delci PM10 za vse kraje v odvisnosti od dneva v mesecu."
   ]
  },
  {
   "cell_type": "code",
   "execution_count": 12,
   "metadata": {
    "scrolled": true
   },
   "outputs": [
    {
     "data": {
      "text/plain": [
       "<AxesSubplot:>"
      ]
     },
     "execution_count": 12,
     "metadata": {},
     "output_type": "execute_result"
    },
    {
     "data": {
      "image/png": "[encoded data removed]",
      "text/plain": [
       "<Figure size 432x288 with 1 Axes>"
      ]
     },
     "metadata": {
      "needs_background": "light"
     },
     "output_type": "display_data"
    }
   ],
   "source": [
    "import matplotlib.pyplot as plt\n",
    "# tu napišite kodo za izris grafa, spremnljivka data je na voljo še od poganjanja prejšnjih polj\n",
    "data.plot()"
   ]
  },
  {
   "cell_type": "markdown",
   "metadata": {},
   "source": [
    "## Kemijske reakcije"
   ]
  },
  {
   "cell_type": "markdown",
   "metadata": {},
   "source": [
    "Sistem kemijskih reakcij je podan s parom diferencialnih enačb:\n",
    "\n",
    "$\\frac{ds_1}{dt}=k_1+k_3s_2(t)-(k_{-1}+k_{-3})s_1(t)$\n",
    "\n",
    "$\\frac{ds_2}{dt}=\\frac{k_2}{1+k_4s_1^q(t)}+k_{-3}s_1(t)-(k_{-2}+k_{3})s_2(t)$\n",
    "\n",
    "Začetna koncentracija $S_1 = 0$ in $S_2 = 0$.\n",
    "\n",
    "Napišimo funkcijo `izris_tri(k1, k_1, k2, k_2, k3, k_3, k4, q)`, ki izriše spreminjanje koncentracije za vsako iteracijo:"
   ]
  },
  {
   "cell_type": "code",
   "execution_count": 14,
   "metadata": {},
   "outputs": [],
   "source": [
    "import matplotlib.pyplot as plt\n",
    "def izris_tri(k1, k_1, k2, k_2, k3, k_3, k4, q):\n",
    "    data = [[0], [0]]\n",
    "    THRESHOLD = 0.00001\n",
    "    s1 = s2 = 0\n",
    "    ds1 = k1 + k3*s2 - (k_1 + k_3)*s1\n",
    "    ds2 = k2/(1 + k4*(s1**q)) + k_3*s1 - (k_2 + k3)*s2\n",
    "    while(abs(ds1) >= THRESHOLD or abs(ds2) >= THRESHOLD):\n",
    "        s1 += ds1\n",
    "        s2 += ds2\n",
    "        data[0].append(s1)\n",
    "        data[1].append(s2)\n",
    "        ds1 = k1 + k3*s2 - (k_1 + k_3)*s1\n",
    "        ds2 = k2/(1 + k4*(s1**q)) + k_3*s1 - (k_2 + k3)*s2\n",
    "    plt.plot(data[0])\n",
    "    plt.plot(data[1])\n",
    "    plt.legend([\"$S_1$\", \"$S_2$\"])\n",
    "    plt.show()"
   ]
  },
  {
   "cell_type": "markdown",
   "metadata": {},
   "source": [
    "Testirajmo z vhodnimi podatki $K_1 = 0.01$, $K_{-1}=0.01$, $K_{2}=0.2$, $K_{-2}=0.01$, $K_{3}=0.02$, $K_{-3}=0.004$, $K_{4}=0.05$, $q=2$:"
   ]
  },
  {
   "cell_type": "code",
   "execution_count": 15,
   "metadata": {},
   "outputs": [
    {
     "data": {
      "image/png": "[encoded data removed]",
      "text/plain": [
       "<Figure size 432x288 with 1 Axes>"
      ]
     },
     "metadata": {
      "needs_background": "light"
     },
     "output_type": "display_data"
    }
   ],
   "source": [
    "izris_tri(0.01, 0.01, 0.2, 0.01, 0.02, 0.004, 0.05, 2)"
   ]
  },
  {
   "cell_type": "markdown",
   "metadata": {},
   "source": [
    "Testirajmo še z drugačnimi vhodnimi podatki:"
   ]
  },
  {
   "cell_type": "code",
   "execution_count": 16,
   "metadata": {},
   "outputs": [
    {
     "data": {
      "image/png": "[encoded data removed]",
      "text/plain": [
       "<Figure size 432x288 with 1 Axes>"
      ]
     },
     "metadata": {
      "needs_background": "light"
     },
     "output_type": "display_data"
    }
   ],
   "source": [
    "izris_tri(0.01, 0.01, 0.2, 0.01, 0.02, 0.004, 0.05, 10)"
   ]
  },
  {
   "cell_type": "code",
   "execution_count": null,
   "metadata": {},
   "outputs": [],
   "source": []
  }
 ],
 "metadata": {
  "anaconda-cloud": {},
  "kernelspec": {
   "display_name": "Python 3 (ipykernel)",
   "language": "python",
   "name": "python3"
  },
  "language_info": {
   "codemirror_mode": {
    "name": "ipython",
    "version": 3
   },
   "file_extension": ".py",
   "mimetype": "text/x-python",
   "name": "python",
   "nbconvert_exporter": "python",
   "pygments_lexer": "ipython3",
   "version": "3.8.10"
  }
 },
 "nbformat": 4,
 "nbformat_minor": 4
}
