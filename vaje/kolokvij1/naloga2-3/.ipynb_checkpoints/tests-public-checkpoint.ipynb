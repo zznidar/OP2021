{
 "cells": [
  {
   "cell_type": "markdown",
   "metadata": {},
   "source": [
    "# set-up"
   ]
  },
  {
   "cell_type": "code",
   "execution_count": 1,
   "metadata": {},
   "outputs": [],
   "source": [
    "import unittest\n",
    "from naloga3 import *\n",
    "\n",
    "test_case = unittest.TestCase()"
   ]
  },
  {
   "cell_type": "markdown",
   "metadata": {},
   "source": [
    "# razdalja"
   ]
  },
  {
   "cell_type": "code",
   "execution_count": 2,
   "metadata": {},
   "outputs": [],
   "source": [
    "expected = 7.0\n",
    "result = razdalja((0, 0, 0), (2, 6, 3)) \n",
    "test_case.assertAlmostEqual(expected, result, 5)"
   ]
  },
  {
   "cell_type": "code",
   "execution_count": 3,
   "metadata": {},
   "outputs": [],
   "source": [
    "expected = 3.0\n",
    "result = razdalja((7,-3, 1), (8, -5, 3))\n",
    "test_case.assertAlmostEqual(expected, result, 5)"
   ]
  },
  {
   "cell_type": "code",
   "execution_count": 4,
   "metadata": {},
   "outputs": [],
   "source": [
    "expected  = 47.4894725176012\n",
    "result = razdalja((12, 1.5, -15), (-5, -4, 29))\n",
    "test_case.assertAlmostEqual(expected, result, 5)"
   ]
  },
  {
   "cell_type": "code",
   "execution_count": 5,
   "metadata": {},
   "outputs": [],
   "source": [
    "expected  = 6.0\n",
    "result = razdalja((1048, -690, -1933), (1044, -688, -1929))\n",
    "test_case.assertAlmostEqual(expected, result, 5)"
   ]
  },
  {
   "cell_type": "code",
   "execution_count": 6,
   "metadata": {},
   "outputs": [],
   "source": [
    "expected  = 115.22165812033776\n",
    "result = razdalja((13.56, 44.4, 7.74), (13.69, -46.3, 78.8))\n",
    "test_case.assertAlmostEqual(expected, result, 5)"
   ]
  },
  {
   "cell_type": "markdown",
   "metadata": {},
   "source": [
    "# dolzina_poti"
   ]
  },
  {
   "cell_type": "code",
   "execution_count": 7,
   "metadata": {},
   "outputs": [],
   "source": [
    "expected = 21.0\n",
    "result = dolzina_poti([(0, 0, 0), (2, 6, 3), (3, 4, 1), (12, -2, 3)])\n",
    "test_case.assertAlmostEqual(expected, result, 5)"
   ]
  },
  {
   "cell_type": "code",
   "execution_count": 8,
   "metadata": {},
   "outputs": [],
   "source": [
    "expected = 143.86451960090784\n",
    "result = dolzina_poti([(25, 71, -15), (54, -9, 101)]) \n",
    "test_case.assertAlmostEqual(expected, result, 5)"
   ]
  },
  {
   "cell_type": "code",
   "execution_count": 9,
   "metadata": {},
   "outputs": [],
   "source": [
    "expected = 32.0\n",
    "result = dolzina_poti([(-6, 4, -7), (-7, 2, -9), (-5, 8, 0), (-1, 12, 7), (0, 16, -1)])\n",
    "test_case.assertAlmostEqual(expected, result, 5)"
   ]
  },
  {
   "cell_type": "code",
   "execution_count": 10,
   "metadata": {},
   "outputs": [],
   "source": [
    "expected = 0.0\n",
    "result = dolzina_poti([(5.4, 8.2, 7)])\n",
    "test_case.assertAlmostEqual(expected, result, 5)"
   ]
  },
  {
   "cell_type": "code",
   "execution_count": 11,
   "metadata": {},
   "outputs": [],
   "source": [
    "expected = 176.80451537687904\n",
    "result = dolzina_poti([(-5, 7, 0), (-1, 26, 2), (18, 44, 7), (28, 59, 24), (40, 63, 38), (47, 71, 44), (52, 76, 47), (58, 71, 51), (59, 90, 60), (70, 95, 60), (87, 110, 71)])\n",
    "test_case.assertAlmostEqual(expected, result, 5)"
   ]
  }
 ],
 "metadata": {
  "kernelspec": {
   "display_name": "Python 3",
   "language": "python",
   "name": "python3"
  },
  "language_info": {
   "codemirror_mode": {
    "name": "ipython",
    "version": 3
   },
   "file_extension": ".py",
   "mimetype": "text/x-python",
   "name": "python",
   "nbconvert_exporter": "python",
   "pygments_lexer": "ipython3",
   "version": "3.7.0"
  }
 },
 "nbformat": 4,
 "nbformat_minor": 4
}
